{
  "cells": [
    {
      "cell_type": "markdown",
      "metadata": {},
      "source": [
        "# \ud83c\udf33 Decision Predicate Graph (DPG)\n",
        "This notebook shows a minimal working example of using DPG on a classification dataset.\n"
      ]
    },
    {
      "cell_type": "code",
      "execution_count": null,
      "metadata": {},
      "outputs": [],
      "source": [
        "import pandas as pd\n",
        "import numpy as np\n",
        "from sklearn.ensemble import RandomForestClassifier\n",
        "from dpg.core import DecisionPredicateGraph\n",
        "from dpg.visualizer import plot_dpg"
      ]
    },
    {
      "cell_type": "markdown",
      "metadata": {},
      "source": [
        "## \ud83d\udce5 Load your dataset"
      ]
    },
    {
      "cell_type": "code",
      "execution_count": null,
      "metadata": {},
      "outputs": [],
      "source": [
        "# Assumes your dataset is in datasets/custom.csv\n",
        "# Last column is the target\n",
        "df = pd.read_csv(\"../datasets/custom.csv\", index_col=0)\n",
        "X = df.iloc[:, :-1].replace([np.inf, -np.inf], np.nan).fillna(df.mean())\n",
        "y = df.iloc[:, -1]"
      ]
    },
    {
      "cell_type": "markdown",
      "metadata": {},
      "source": [
        "## \ud83e\udde0 Train a Random Forest"
      ]
    },
    {
      "cell_type": "code",
      "execution_count": null,
      "metadata": {},
      "outputs": [],
      "source": [
        "model = RandomForestClassifier(n_estimators=10, random_state=27)\n",
        "model.fit(X, y)"
      ]
    },
    {
      "cell_type": "markdown",
      "metadata": {},
      "source": [
        "## \ud83d\udcca Generate and visualize DPG"
      ]
    },
    {
      "cell_type": "code",
      "execution_count": null,
      "metadata": {},
      "outputs": [],
      "source": [
        "feature_names = X.columns.tolist()\n",
        "class_names = np.unique(y).astype(str).tolist()\n",
        "\n",
        "dpg = DecisionPredicateGraph(\n",
        "    model=model,\n",
        "    feature_names=feature_names,\n",
        "    target_names=class_names,\n",
        "    perc_var=0.0001,\n",
        "    decimal_threshold=2,\n",
        "    n_jobs=1\n",
        ")\n",
        "dot = dpg.fit(X.values)\n",
        "dpg_model, nodes_list = dpg.to_networkx(dot)\n",
        "\n",
        "dpg_metrics = dpg.extract_graph_metrics(dpg_model, nodes_list)\n",
        "df_nodes = dpg.extract_node_metrics(dpg_model, nodes_list)\n",
        "\n",
        "plot_dpg(\"dpg_output.png\", dot, df_nodes, dpg_metrics, save_dir=\"../datasets\", communities=True, class_flag=True)"
      ]
    }
  ],
  "metadata": {
    "kernelspec": {
      "display_name": "Python 3",
      "language": "python",
      "name": "python3"
    },
    "language_info": {
      "name": "python",
      "version": "3.10"
    }
  },
  "nbformat": 4,
  "nbformat_minor": 2
}