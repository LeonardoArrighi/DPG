{
  "nbformat": 4,
  "nbformat_minor": 0,
  "metadata": {
    "colab": {
      "provenance": []
    },
    "kernelspec": {
      "name": "python3",
      "display_name": "Python 3"
    },
    "language_info": {
      "name": "python"
    }
  },
  "cells": [
    {
      "cell_type": "markdown",
      "source": [
        "# 🌳 Decision Predicate Graph (DPG)\n",
        "This notebook shows a minimal working example of using DPG on a classification dataset."
      ],
      "metadata": {
        "id": "Dsa51KFwOHV7"
      }
    },
    {
      "cell_type": "code",
      "execution_count": null,
      "metadata": {
        "id": "I7D0kzBkN_Rw"
      },
      "outputs": [],
      "source": [
        "import pandas as pd\n",
        "import numpy as np\n",
        "from sklearn.ensemble import RandomForestClassifier\n",
        "from dpg.core import DecisionPredicateGraph\n",
        "from dpg.visualizer import plot_dpg\n",
        "from metrics.nodes import NodeMetrics\n",
        "from metrics.graph import GraphMetrics"
      ]
    },
    {
      "cell_type": "markdown",
      "source": [
        "## 📥 Load your dataset"
      ],
      "metadata": {
        "id": "xw0ZtsLzOSqX"
      }
    },
    {
      "cell_type": "code",
      "source": [
        "# Assumes your dataset is in datasets/custom.csv\n",
        "# Last column is the target\n",
        "df = pd.read_csv(\"../datasets/custom.csv\", index_col=0)\n",
        "X = df.iloc[:, :-1]\n",
        "y = df.iloc[:, -1]"
      ],
      "metadata": {
        "id": "GxGn8D5lOHC7"
      },
      "execution_count": null,
      "outputs": []
    },
    {
      "cell_type": "markdown",
      "source": [
        "## 🧠 Train a Random Forest"
      ],
      "metadata": {
        "id": "qx63JSuZOZvw"
      }
    },
    {
      "cell_type": "code",
      "source": [
        "model = RandomForestClassifier(n_estimators=10, random_state=27)\n",
        "model.fit(X, y)"
      ],
      "metadata": {
        "id": "dCq02WnxOchk"
      },
      "execution_count": null,
      "outputs": []
    },
    {
      "cell_type": "markdown",
      "source": [
        "## 📊 Generate and visualize DPG"
      ],
      "metadata": {
        "id": "USqEF_QcOfJD"
      }
    },
    {
      "cell_type": "code",
      "source": [
        "feature_names = X.columns.tolist()\n",
        "class_names = np.unique(y).astype(str).tolist()\n",
        "\n",
        "dpg = DecisionPredicateGraph(\n",
        "    model=model,\n",
        "    feature_names=feature_names,\n",
        "    target_names=class_names\n",
        ")\n",
        "dot = dpg.fit(X.values)\n",
        "dpg_model, nodes_list = dpg.to_networkx(dot)\n",
        "\n",
        "# =============================================================================\n",
        "# METRICS EXTRACTION\n",
        "# =============================================================================\n",
        "dpg_metrics = GraphMetrics.extract_graph_metrics(dpg_model, nodes_list,target_names=np.unique(y).astype(str).tolist())\n",
        "df_nodes = NodeMetrics.extract_node_metrics(dpg_model, nodes_list)\n",
        "\n",
        "\n",
        "plot_dpg(\"dpg_output.png\", dot, df_nodes, dpg_metrics, save_dir=\"../datasets\", communities=True, class_flag=False)"
      ],
      "metadata": {
        "id": "NSc-5dZoOmSm"
      },
      "execution_count": null,
      "outputs": []
    },
    {
      "cell_type": "markdown",
      "source": [
        "## Communities"
      ],
      "metadata": {
        "id": "mhSSg5u4OtiT"
      }
    },
    {
      "cell_type": "code",
      "source": [
        "import pandas as pd\n",
        "\n",
        "rows = []\n",
        "for group in dpg_metrics[\"Communities\"]:\n",
        "    class_name = [s for s in group if s.startswith(\"Class\")][0]\n",
        "    predicates = group - {class_name}\n",
        "    for pred in predicates:\n",
        "        rows.append({\"Class\": class_name, \"Predicate\": pred})\n",
        "\n",
        "df = pd.DataFrame(rows)\n",
        "\n",
        "# Group predicates by class\n",
        "grouped_df = df.groupby(\"Class\")[\"Predicate\"].apply(lambda x: \", \".join(sorted(x))).reset_index()\n",
        "grouped_df"
      ],
      "metadata": {
        "id": "-nowpuFvOvtF"
      },
      "execution_count": null,
      "outputs": []
    },
    {
      "cell_type": "markdown",
      "source": [
        "## Class Bounds"
      ],
      "metadata": {
        "id": "x7IfnNepO0Hn"
      }
    },
    {
      "cell_type": "code",
      "source": [
        "import pandas as pd\n",
        "\n",
        "# Assuming dpg_metrics is already defined and contains \"Class Bounds\"\n",
        "class_bounds = dpg_metrics.get(\"Class Bounds\", {})\n",
        "\n",
        "# Convert to DataFrame: one row per class with constraints joined\n",
        "df_bounds = pd.DataFrame([\n",
        "    {\"Class\": class_name, \"Constraints\": \", \".join(sorted(bounds))}\n",
        "    for class_name, bounds in class_bounds.items()\n",
        "])\n",
        "\n",
        "# Optional: sort alphabetically by class name\n",
        "df_bounds = df_bounds.sort_values(\"Class\")\n",
        "df_bounds"
      ],
      "metadata": {
        "id": "cG8Cj3_JOyZz"
      },
      "execution_count": null,
      "outputs": []
    },
    {
      "cell_type": "markdown",
      "source": [
        "## Predicates (nodes) explanation"
      ],
      "metadata": {
        "id": "ZWUbzFtnO5qv"
      }
    },
    {
      "cell_type": "code",
      "source": [
        "import matplotlib.pyplot as plt\n",
        "\n",
        "# Sort by Local Reaching Centrality\n",
        "df_sorted = df_nodes.sort_values(\"Local reaching centrality\", ascending=False).head(10)\n",
        "\n",
        "# Plot\n",
        "plt.figure(figsize=(10, 6))\n",
        "plt.barh(df_sorted[\"Label\"], df_sorted[\"Local reaching centrality\"], color=\"skyblue\")\n",
        "plt.xlabel(\"Local Reaching Centrality\")\n",
        "plt.ylabel(\"Label\")\n",
        "plt.title(\"Ranking of Local Reaching Centrality (LRC)\")\n",
        "plt.gca().invert_yaxis()  # Highest at the top\n",
        "plt.tight_layout()\n",
        "plt.show()"
      ],
      "metadata": {
        "id": "53-2yKsJO6vZ"
      },
      "execution_count": null,
      "outputs": []
    }
  ]
}